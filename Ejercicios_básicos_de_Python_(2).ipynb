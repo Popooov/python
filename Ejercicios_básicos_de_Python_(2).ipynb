{
  "nbformat": 4,
  "nbformat_minor": 0,
  "metadata": {
    "colab": {
      "provenance": [],
      "collapsed_sections": []
    },
    "kernelspec": {
      "name": "python3",
      "display_name": "Python 3"
    },
    "language_info": {
      "name": "python"
    }
  },
  "cells": [
    {
      "cell_type": "markdown",
      "metadata": {
        "id": "RL-pITQqPt9a"
      },
      "source": [
        "1. Cree una lista denominada \"islas\" con los nombres de las Islas Canarias (sin La Graciosa)"
      ]
    },
    {
      "cell_type": "code",
      "source": [
        "islas = ['Lanzarote', 'Fuerteventura', 'Gran Canaria', 'Tenerife', 'La Palma', 'La Gomera', 'El Hierro']"
      ],
      "metadata": {
        "id": "Vxt1LLuqaDba"
      },
      "execution_count": 4,
      "outputs": []
    },
    {
      "cell_type": "markdown",
      "metadata": {
        "id": "F0uHBoNIQaol"
      },
      "source": [
        "2. Muestre el tipo de dato de \"islas\""
      ]
    },
    {
      "cell_type": "code",
      "source": [
        "type(islas)"
      ],
      "metadata": {
        "colab": {
          "base_uri": "https://localhost:8080/"
        },
        "id": "TTn1YSuudqMv",
        "outputId": "c560eb83-16cb-4260-ae85-c193c0cab060"
      },
      "execution_count": 7,
      "outputs": [
        {
          "output_type": "execute_result",
          "data": {
            "text/plain": [
              "list"
            ]
          },
          "metadata": {},
          "execution_count": 7
        }
      ]
    },
    {
      "cell_type": "markdown",
      "metadata": {
        "id": "vtIi_BKuQhzB"
      },
      "source": [
        "3. ¿Cuántos elementos tiene la lista?"
      ]
    },
    {
      "cell_type": "code",
      "source": [
        "len(islas)"
      ],
      "metadata": {
        "colab": {
          "base_uri": "https://localhost:8080/"
        },
        "id": "QbggNVhkd_I3",
        "outputId": "a58fd166-924e-4fe6-fef6-873f81d3f925"
      },
      "execution_count": 9,
      "outputs": [
        {
          "output_type": "execute_result",
          "data": {
            "text/plain": [
              "7"
            ]
          },
          "metadata": {},
          "execution_count": 9
        }
      ]
    },
    {
      "cell_type": "markdown",
      "metadata": {
        "id": "jdjxinSmQ07Z"
      },
      "source": [
        "4. Muestre el primer elemento de la lista. Muestre después el cuarto elemento de la lista"
      ]
    },
    {
      "cell_type": "code",
      "source": [
        "islas[0]"
      ],
      "metadata": {
        "colab": {
          "base_uri": "https://localhost:8080/",
          "height": 35
        },
        "id": "1eult-RgeE6t",
        "outputId": "7e08bc95-128c-446b-ba40-0a14c081e898"
      },
      "execution_count": 10,
      "outputs": [
        {
          "output_type": "execute_result",
          "data": {
            "text/plain": [
              "'Lanzarote'"
            ],
            "application/vnd.google.colaboratory.intrinsic+json": {
              "type": "string"
            }
          },
          "metadata": {},
          "execution_count": 10
        }
      ]
    },
    {
      "cell_type": "markdown",
      "metadata": {
        "id": "92cUTXBLRKnG"
      },
      "source": [
        "5. Muestre el tipo de dato del primer elemento de la lista"
      ]
    },
    {
      "cell_type": "code",
      "source": [
        "type(islas[0])"
      ],
      "metadata": {
        "colab": {
          "base_uri": "https://localhost:8080/"
        },
        "id": "WuPwPHfveJtt",
        "outputId": "dedfcca0-c31f-47e1-9a31-3405aee47cc5"
      },
      "execution_count": 11,
      "outputs": [
        {
          "output_type": "execute_result",
          "data": {
            "text/plain": [
              "str"
            ]
          },
          "metadata": {},
          "execution_count": 11
        }
      ]
    },
    {
      "cell_type": "markdown",
      "metadata": {
        "id": "0ZOTl4bnRQj2"
      },
      "source": [
        "6. Ordene la lista \"islas\" por orden alfabético y muéstrela en pantalla"
      ]
    },
    {
      "cell_type": "code",
      "source": [
        "sorted(islas)"
      ],
      "metadata": {
        "colab": {
          "base_uri": "https://localhost:8080/"
        },
        "id": "zmW3rBL1eUWR",
        "outputId": "a030ad45-3b65-44c8-b32c-fa0ab3a9bad0"
      },
      "execution_count": 16,
      "outputs": [
        {
          "output_type": "execute_result",
          "data": {
            "text/plain": [
              "['El Hierro',\n",
              " 'Fuerteventura',\n",
              " 'Gran Canaria',\n",
              " 'La Gomera',\n",
              " 'La Palma',\n",
              " 'Lanzarote',\n",
              " 'Tenerife']"
            ]
          },
          "metadata": {},
          "execution_count": 16
        }
      ]
    },
    {
      "cell_type": "markdown",
      "metadata": {
        "id": "SoBsVMqwTK5m"
      },
      "source": [
        "7. Muestre el último elemento de la lista"
      ]
    },
    {
      "cell_type": "code",
      "source": [
        "islas[-1]"
      ],
      "metadata": {
        "colab": {
          "base_uri": "https://localhost:8080/",
          "height": 35
        },
        "id": "mPeoMhIPe2dH",
        "outputId": "0a2756a0-a9cf-485f-c52e-dfc1760925c7"
      },
      "execution_count": 18,
      "outputs": [
        {
          "output_type": "execute_result",
          "data": {
            "text/plain": [
              "'Tenerife'"
            ],
            "application/vnd.google.colaboratory.intrinsic+json": {
              "type": "string"
            }
          },
          "metadata": {},
          "execution_count": 18
        }
      ]
    },
    {
      "cell_type": "markdown",
      "metadata": {
        "id": "B-a55S5hTaYJ"
      },
      "source": [
        "8. Muestre los tres primeros elementos de la lista"
      ]
    },
    {
      "cell_type": "code",
      "source": [
        "islas[0:3]"
      ],
      "metadata": {
        "colab": {
          "base_uri": "https://localhost:8080/"
        },
        "id": "_kBO9qrbfnc8",
        "outputId": "11fad53d-ca14-4a96-943a-92506cda5b2c"
      },
      "execution_count": 20,
      "outputs": [
        {
          "output_type": "execute_result",
          "data": {
            "text/plain": [
              "['El Hierro', 'Fuerteventura', 'Gran Canaria']"
            ]
          },
          "metadata": {},
          "execution_count": 20
        }
      ]
    },
    {
      "cell_type": "markdown",
      "metadata": {
        "id": "Nn98RkJwToVq"
      },
      "source": [
        "9. Muestre los dos últimos elementos de la lista"
      ]
    },
    {
      "cell_type": "code",
      "source": [
        "islas[len(islas) - 2 : len(islas)]"
      ],
      "metadata": {
        "colab": {
          "base_uri": "https://localhost:8080/"
        },
        "id": "C2TvAtCGgCoi",
        "outputId": "a77be9ff-47b1-45fd-9f09-0a38d90d3514"
      },
      "execution_count": 27,
      "outputs": [
        {
          "output_type": "execute_result",
          "data": {
            "text/plain": [
              "['Lanzarote', 'Tenerife']"
            ]
          },
          "metadata": {},
          "execution_count": 27
        }
      ]
    },
    {
      "cell_type": "markdown",
      "metadata": {
        "id": "3wYntBwBXL3P"
      },
      "source": [
        "10. ¿qué posición ocupa \"La Gomera\" en la lista \"islas\"?"
      ]
    },
    {
      "cell_type": "code",
      "source": [
        "islas.index('La Gomera')"
      ],
      "metadata": {
        "colab": {
          "base_uri": "https://localhost:8080/"
        },
        "id": "DwNEhBdShSNY",
        "outputId": "07409e5f-8d44-42be-dcca-def94f40b876"
      },
      "execution_count": 30,
      "outputs": [
        {
          "output_type": "execute_result",
          "data": {
            "text/plain": [
              "3"
            ]
          },
          "metadata": {},
          "execution_count": 30
        }
      ]
    },
    {
      "cell_type": "markdown",
      "metadata": {
        "id": "74LCirh7T434"
      },
      "source": [
        "11. Añada \"La Graciosa\" a la lista \"islas\""
      ]
    },
    {
      "cell_type": "code",
      "source": [
        "islas.append('La Graciosa')"
      ],
      "metadata": {
        "id": "rPs0Oso7hxWf"
      },
      "execution_count": 36,
      "outputs": []
    },
    {
      "cell_type": "markdown",
      "metadata": {
        "id": "Ajf8AN-7Wb9K"
      },
      "source": [
        "12. Compruebe si \"La Graciosa\" está en la lista \"islas\""
      ]
    },
    {
      "cell_type": "code",
      "source": [
        "'La Graciosa' in islas"
      ],
      "metadata": {
        "colab": {
          "base_uri": "https://localhost:8080/"
        },
        "id": "jOYoZrlfh41Q",
        "outputId": "5cad8a12-551e-4556-ffc5-a0a7bf6190ad"
      },
      "execution_count": 37,
      "outputs": [
        {
          "output_type": "execute_result",
          "data": {
            "text/plain": [
              "True"
            ]
          },
          "metadata": {},
          "execution_count": 37
        }
      ]
    },
    {
      "cell_type": "markdown",
      "metadata": {
        "id": "-2PaFdVfW0W1"
      },
      "source": [
        "13. Elimine \"La Graciosa\" de la lista \"islas\" y compruebe si \"La Graciosa\" está en la lista \"islas\""
      ]
    },
    {
      "cell_type": "code",
      "source": [
        "islas.remove('La Graciosa')\n",
        "'La Graciosa' in islas"
      ],
      "metadata": {
        "colab": {
          "base_uri": "https://localhost:8080/"
        },
        "id": "AVkq1B0Fh-J4",
        "outputId": "e9636e5e-93c1-45ea-8991-624d40449a40"
      },
      "execution_count": 38,
      "outputs": [
        {
          "output_type": "execute_result",
          "data": {
            "text/plain": [
              "False"
            ]
          },
          "metadata": {},
          "execution_count": 38
        }
      ]
    },
    {
      "cell_type": "markdown",
      "metadata": {
        "id": "mag-C9DnYxM1"
      },
      "source": [
        "14. Muestre los elementos de la lista de uno en uno"
      ]
    },
    {
      "cell_type": "code",
      "source": [
        "for isla in islas:\n",
        "  print(isla)"
      ],
      "metadata": {
        "colab": {
          "base_uri": "https://localhost:8080/"
        },
        "id": "Fs7L383giXvo",
        "outputId": "2e05a1ab-7f8c-409a-9690-42f208cae09b"
      },
      "execution_count": 40,
      "outputs": [
        {
          "output_type": "stream",
          "name": "stdout",
          "text": [
            "El Hierro\n",
            "Fuerteventura\n",
            "Gran Canaria\n",
            "La Gomera\n",
            "La Palma\n",
            "Lanzarote\n",
            "Tenerife\n"
          ]
        }
      ]
    },
    {
      "cell_type": "markdown",
      "metadata": {
        "id": "f44HAA2IIfIZ"
      },
      "source": [
        "15. Pregunte al usuario en qué isla reside, almacénelo en la variable isla e indique al usuario \"Resides en la isla ....\""
      ]
    },
    {
      "cell_type": "code",
      "source": [
        "isla = input('¿En qué isla resides?')\n",
        "print('Resides en ', isla)"
      ],
      "metadata": {
        "colab": {
          "base_uri": "https://localhost:8080/"
        },
        "id": "pNO4cagQitjQ",
        "outputId": "c11ad3bb-7569-4a33-aee7-a2700f0f8669"
      },
      "execution_count": 42,
      "outputs": [
        {
          "output_type": "stream",
          "name": "stdout",
          "text": [
            "¿En qué isla resides?La Palma\n",
            "Resides en  La Palma\n"
          ]
        }
      ]
    },
    {
      "cell_type": "markdown",
      "metadata": {
        "id": "cIWa1oxZJCeZ"
      },
      "source": [
        "16. Compruebe si la isla está en la lista de islas y muestre un mensaje indicando \"Resides en una isla de las Islas Canarias\" en caso afirmativo o \"La isla .... no pertenece a las Islas Canarias\" en caso negativo"
      ]
    },
    {
      "cell_type": "code",
      "source": [
        "isla = input('¿En qué isla resides? ')\n",
        "if isla in islas:\n",
        "  print('Resides en una isla de las Islas Canarias')\n",
        "else:\n",
        "  print('La isla ', isla, ' no pertenece a las Islas Canarias')"
      ],
      "metadata": {
        "colab": {
          "base_uri": "https://localhost:8080/"
        },
        "id": "KGdZyFOhjjVZ",
        "outputId": "480f839e-7b82-4792-fb99-732152645990"
      },
      "execution_count": 45,
      "outputs": [
        {
          "output_type": "stream",
          "name": "stdout",
          "text": [
            "¿En qué isla resides? La palma\n",
            "La isla  La palma  no pertenece a las Islas Canarias\n"
          ]
        }
      ]
    }
  ]
}